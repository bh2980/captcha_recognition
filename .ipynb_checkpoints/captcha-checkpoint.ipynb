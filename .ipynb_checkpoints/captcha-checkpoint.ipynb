{
 "cells": [
  {
   "cell_type": "code",
   "execution_count": 1,
   "metadata": {
    "colab": {
     "base_uri": "https://localhost:8080/"
    },
    "executionInfo": {
     "elapsed": 27129,
     "status": "ok",
     "timestamp": 1628830674987,
     "user": {
      "displayName": "제주도랏맨",
      "photoUrl": "",
      "userId": "00739299839563227487"
     },
     "user_tz": -540
    },
    "id": "9Hk3jI9-6p8L",
    "outputId": "e64dca6a-b397-4604-e049-b7b06e6457f4"
   },
   "outputs": [
    {
     "name": "stdout",
     "output_type": "stream",
     "text": [
      "6150\n"
     ]
    }
   ],
   "source": [
    "import numpy as np\n",
    "import tensorflow as tf\n",
    "import matplotlib.pyplot as plt\n",
    "import cv2\n",
    "\n",
    "from collections import Counter\n",
    "import os\n",
    "import glob\n",
    "\n",
    "#load labeled character image data\n",
    "img_list = glob.glob('D:\\Github\\captcha_recognition\\character\\labeled\\*\\*.png')\n",
    "print(len(img_list))"
   ]
  },
  {
   "cell_type": "code",
   "execution_count": 2,
   "metadata": {
    "colab": {
     "base_uri": "https://localhost:8080/",
     "height": 320
    },
    "executionInfo": {
     "elapsed": 415,
     "status": "ok",
     "timestamp": 1628830821141,
     "user": {
      "displayName": "제주도랏맨",
      "photoUrl": "",
      "userId": "00739299839563227487"
     },
     "user_tz": -540
    },
    "id": "VkLfM2C16-ff",
    "outputId": "0888e873-a308-41d1-f957-ed588c345803"
   },
   "outputs": [
    {
     "name": "stdout",
     "output_type": "stream",
     "text": [
      "(40, 28)\n",
      "2\n"
     ]
    },
    {
     "data": {
      "text/plain": [
       "<matplotlib.image.AxesImage at 0x232211490c0>"
      ]
     },
     "execution_count": 2,
     "metadata": {},
     "output_type": "execute_result"
    },
    {
     "data": {
      "image/png": "[encoded data removed]",
      "text/plain": [
       "<Figure size 432x288 with 1 Axes>"
      ]
     },
     "metadata": {
      "needs_background": "light"
     },
     "output_type": "display_data"
    }
   ],
   "source": [
    "#check image loading\n",
    "\n",
    "img = cv2.imread(img_list[0], cv2.IMREAD_GRAYSCALE)\n",
    "print(img.shape) #(40, 28)\n",
    "print(img_list[0].split('\\\\')[5][0]) #extract label from file name\n",
    "plt.imshow(img)"
   ]
  },
  {
   "cell_type": "code",
   "execution_count": 3,
   "metadata": {
    "colab": {
     "base_uri": "https://localhost:8080/"
    },
    "executionInfo": {
     "elapsed": 12614,
     "status": "ok",
     "timestamp": 1628838936446,
     "user": {
      "displayName": "제주도랏맨",
      "photoUrl": "",
      "userId": "00739299839563227487"
     },
     "user_tz": -540
    },
    "id": "k4Lqe_HmQQsi",
    "outputId": "6087aed2-d8eb-42cb-e313-6247c8c39b1b"
   },
   "outputs": [
    {
     "name": "stdout",
     "output_type": "stream",
     "text": [
      "6150 6150\n",
      "6150\n",
      "(6150, 40, 28)\n"
     ]
    }
   ],
   "source": [
    "data = np.zeros(shape=(len(img_list), 40, 28))\n",
    "labels = []\n",
    "\n",
    "index = 0\n",
    "\n",
    "for img_dir in img_list:\n",
    "    img = cv2.imread(r''+img_dir, cv2.IMREAD_GRAYSCALE)\n",
    "    \n",
    "    #normalize image\n",
    "    img = (255.0 - img) / 255.0\n",
    "    \n",
    "#     #image flatten\n",
    "#     img = np.array(img).flatten()\n",
    "    \n",
    "    #add image as data\n",
    "    data[index] = img\n",
    "    index += 1\n",
    "        \n",
    "    #add name as label\n",
    "    labels.append(img_dir.split('\\\\')[5][0])\n",
    "\n",
    "print(len(data), len(labels))\n",
    "print(len(labels))\n",
    "print(data.shape)"
   ]
  },
  {
   "cell_type": "code",
   "execution_count": 4,
   "metadata": {
    "colab": {
     "base_uri": "https://localhost:8080/"
    },
    "executionInfo": {
     "elapsed": 383,
     "status": "ok",
     "timestamp": 1628843277892,
     "user": {
      "displayName": "제주도랏맨",
      "photoUrl": "",
      "userId": "00739299839563227487"
     },
     "user_tz": -540
    },
    "id": "rnCAt_o9O9m3",
    "outputId": "be4acd72-5c99-4f27-f89c-77cf8c15dbb7"
   },
   "outputs": [
    {
     "name": "stdout",
     "output_type": "stream",
     "text": [
      "[ 0  1  2  3  4  5  6  7  8  9 10 11 12 13 14 15 16 17 18 19 20 21 22]\n",
      "23\n"
     ]
    }
   ],
   "source": [
    "category = ['2', '3', '4', '5', '6', '7', '8', 'a', 'b', 'c', 'd', 'e', 'f', 'g', 'h', 'k', 'm', 'n', 'p', 'r', 'w', 'x', 'y']\n",
    "char_dict = dict([(category[index], index) for index in range(len(category))])\n",
    "\n",
    "#label to num\n",
    "label_c = []\n",
    "\n",
    "for label in labels:\n",
    "    label_c.append(char_dict[label])\n",
    "#     print(label, label_c[-1])\n",
    "\n",
    "#check label_c\n",
    "print(np.unique(label_c))\n",
    "print(len(np.unique(label_c)))"
   ]
  },
  {
   "cell_type": "code",
   "execution_count": 5,
   "metadata": {
    "colab": {
     "base_uri": "https://localhost:8080/"
    },
    "executionInfo": {
     "elapsed": 381,
     "status": "ok",
     "timestamp": 1628843298437,
     "user": {
      "displayName": "제주도랏맨",
      "photoUrl": "",
      "userId": "00739299839563227487"
     },
     "user_tz": -540
    },
    "id": "TV0ga-fHR5iY",
    "outputId": "408e478a-814b-45d5-a7d1-1f833dacd01f"
   },
   "outputs": [
    {
     "name": "stdout",
     "output_type": "stream",
     "text": [
      "4305 1845\n",
      "(4305, 40, 28) 4305\n",
      "tf.Tensor([0. 0. 0. 0. 0. 0. 0. 0. 0. 0. 0. 0. 0. 0. 0. 0. 0. 0. 0. 0. 1. 0. 0.], shape=(23,), dtype=float32)\n"
     ]
    }
   ],
   "source": [
    "from sklearn.model_selection import train_test_split\n",
    "\n",
    "#split set to train and test\n",
    "d_train, d_test, l_train, l_test = train_test_split(data, label_c, test_size=0.3, stratify=label_c, random_state=0)\n",
    "\n",
    "#change to one-hot vector\n",
    "l_train_1hot = tf.one_hot(l_train, 23)\n",
    "l_test_1hot= tf.one_hot(l_test, 23)\n",
    "\n",
    "print(len(d_train), len(d_test))\n",
    "print(d_train.shape, len(l_train))\n",
    "print(l_train_1hot[0])"
   ]
  },
  {
   "cell_type": "code",
   "execution_count": 6,
   "metadata": {
    "id": "KQt3_jn89TJu"
   },
   "outputs": [
    {
     "name": "stdout",
     "output_type": "stream",
     "text": [
      "Model: \"sequential\"\n",
      "_________________________________________________________________\n",
      " Layer (type)                Output Shape              Param #   \n",
      "=================================================================\n",
      " flatten (Flatten)           (None, 1120)              0         \n",
      "                                                                 \n",
      " dense (Dense)               (None, 128)               143488    \n",
      "                                                                 \n",
      " dense_1 (Dense)             (None, 128)               16512     \n",
      "                                                                 \n",
      " dense_2 (Dense)             (None, 128)               16512     \n",
      "                                                                 \n",
      " dense_3 (Dense)             (None, 23)                2967      \n",
      "                                                                 \n",
      "=================================================================\n",
      "Total params: 179,479\n",
      "Trainable params: 179,479\n",
      "Non-trainable params: 0\n",
      "_________________________________________________________________\n"
     ]
    }
   ],
   "source": [
    "#define MLP model\n",
    "\n",
    "# act = \"linear\"\n",
    "# act = \"sigmoid\"\n",
    "# act = \"tanh\"\n",
    "act = \"relu\"\n",
    "\n",
    "# 3 layers 128 nodes using relu function\n",
    "captcha_recognition = tf.keras.models.Sequential([\n",
    "    # 40x28 input layer\n",
    "    tf.keras.layers.Flatten(input_shape=(40, 28)),\n",
    "    tf.keras.layers.Dense(128, activation=act),\n",
    "    tf.keras.layers.Dense(128, activation=act),\n",
    "    tf.keras.layers.Dense(128, activation=act),\n",
    "    #23 output node\n",
    "    tf.keras.layers.Dense(23, activation=\"softmax\")\n",
    "])\n",
    "\n",
    "opt = tf.keras.optimizers.Adam(learning_rate=0.005)\n",
    "# opt = tf.keras.optimizers.RMSprop(learning_rate=0.01, momentum=0.1)\n",
    "\n",
    "captcha_recognition.compile(loss='categorical_crossentropy', optimizer = opt, metrics=['accuracy'])\n",
    "captcha_recognition.summary()"
   ]
  },
  {
   "cell_type": "code",
   "execution_count": 7,
   "metadata": {
    "colab": {
     "base_uri": "https://localhost:8080/"
    },
    "executionInfo": {
     "elapsed": 21197,
     "status": "ok",
     "timestamp": 1628843331825,
     "user": {
      "displayName": "제주도랏맨",
      "photoUrl": "",
      "userId": "00739299839563227487"
     },
     "user_tz": -540
    },
    "id": "qckgAjt7CdBI",
    "outputId": "ee0286df-4817-411f-b29a-1a1388008115"
   },
   "outputs": [
    {
     "name": "stdout",
     "output_type": "stream",
     "text": [
      "Epoch 1/30\n",
      "135/135 [==============================] - 1s 2ms/step - loss: 1.2705 - accuracy: 0.6242\n",
      "Epoch 2/30\n",
      "135/135 [==============================] - 0s 1ms/step - loss: 0.4556 - accuracy: 0.8639\n",
      "Epoch 3/30\n",
      "135/135 [==============================] - 0s 1ms/step - loss: 0.3033 - accuracy: 0.9013\n",
      "Epoch 4/30\n",
      "135/135 [==============================] - 0s 1ms/step - loss: 0.2331 - accuracy: 0.9280\n",
      "Epoch 5/30\n",
      "135/135 [==============================] - 0s 1ms/step - loss: 0.2089 - accuracy: 0.9329\n",
      "Epoch 6/30\n",
      "135/135 [==============================] - 0s 2ms/step - loss: 0.1910 - accuracy: 0.9368\n",
      "Epoch 7/30\n",
      "135/135 [==============================] - 0s 2ms/step - loss: 0.2377 - accuracy: 0.9287\n",
      "Epoch 8/30\n",
      "135/135 [==============================] - 0s 2ms/step - loss: 0.2116 - accuracy: 0.9315\n",
      "Epoch 9/30\n",
      "135/135 [==============================] - 0s 2ms/step - loss: 0.1961 - accuracy: 0.9440\n",
      "Epoch 10/30\n",
      "135/135 [==============================] - 0s 2ms/step - loss: 0.1530 - accuracy: 0.9496\n",
      "Epoch 11/30\n",
      "135/135 [==============================] - 0s 2ms/step - loss: 0.1418 - accuracy: 0.9605\n",
      "Epoch 12/30\n",
      "135/135 [==============================] - 0s 2ms/step - loss: 0.1360 - accuracy: 0.9587\n",
      "Epoch 13/30\n",
      "135/135 [==============================] - 0s 2ms/step - loss: 0.0870 - accuracy: 0.9763\n",
      "Epoch 14/30\n",
      "135/135 [==============================] - 0s 2ms/step - loss: 0.0777 - accuracy: 0.9775\n",
      "Epoch 15/30\n",
      "135/135 [==============================] - 0s 2ms/step - loss: 0.1132 - accuracy: 0.9656\n",
      "Epoch 16/30\n",
      "135/135 [==============================] - 0s 2ms/step - loss: 0.1503 - accuracy: 0.9617\n",
      "Epoch 17/30\n",
      "135/135 [==============================] - 0s 2ms/step - loss: 0.1596 - accuracy: 0.9587\n",
      "Epoch 18/30\n",
      "135/135 [==============================] - 0s 2ms/step - loss: 0.1701 - accuracy: 0.9535\n",
      "Epoch 19/30\n",
      "135/135 [==============================] - 0s 2ms/step - loss: 0.0774 - accuracy: 0.9756\n",
      "Epoch 20/30\n",
      "135/135 [==============================] - 0s 2ms/step - loss: 0.0430 - accuracy: 0.9865\n",
      "Epoch 21/30\n",
      "135/135 [==============================] - 0s 2ms/step - loss: 0.0528 - accuracy: 0.9868\n",
      "Epoch 22/30\n",
      "135/135 [==============================] - 0s 2ms/step - loss: 0.1221 - accuracy: 0.9698\n",
      "Epoch 23/30\n",
      "135/135 [==============================] - 0s 2ms/step - loss: 0.2539 - accuracy: 0.9449\n",
      "Epoch 24/30\n",
      "135/135 [==============================] - 0s 2ms/step - loss: 0.1889 - accuracy: 0.9568\n",
      "Epoch 25/30\n",
      "135/135 [==============================] - 0s 2ms/step - loss: 0.1043 - accuracy: 0.9754\n",
      "Epoch 26/30\n",
      "135/135 [==============================] - 0s 2ms/step - loss: 0.0728 - accuracy: 0.9814\n",
      "Epoch 27/30\n",
      "135/135 [==============================] - 0s 2ms/step - loss: 0.0408 - accuracy: 0.9868\n",
      "Epoch 28/30\n",
      "135/135 [==============================] - 0s 2ms/step - loss: 0.0410 - accuracy: 0.9886\n",
      "Epoch 29/30\n",
      "135/135 [==============================] - 0s 2ms/step - loss: 0.1084 - accuracy: 0.9731\n",
      "Epoch 30/30\n",
      "135/135 [==============================] - 0s 2ms/step - loss: 0.1775 - accuracy: 0.9626\n"
     ]
    },
    {
     "data": {
      "text/plain": [
       "<keras.callbacks.History at 0x2322bac4b80>"
      ]
     },
     "execution_count": 7,
     "metadata": {},
     "output_type": "execute_result"
    }
   ],
   "source": [
    "#model train\n",
    "\n",
    "captcha_recognition.fit(d_train, l_train_1hot, epochs = 30)"
   ]
  },
  {
   "cell_type": "code",
   "execution_count": 8,
   "metadata": {
    "colab": {
     "base_uri": "https://localhost:8080/"
    },
    "executionInfo": {
     "elapsed": 3,
     "status": "ok",
     "timestamp": 1628843331826,
     "user": {
      "displayName": "제주도랏맨",
      "photoUrl": "",
      "userId": "00739299839563227487"
     },
     "user_tz": -540
    },
    "id": "GxKPlMHuZB6j",
    "outputId": "aee70fcb-de0b-4858-d271-b38018c68b8a"
   },
   "outputs": [
    {
     "name": "stdout",
     "output_type": "stream",
     "text": [
      "58/58 - 0s - loss: 1.0347 - accuracy: 0.8889 - 161ms/epoch - 3ms/step\n"
     ]
    },
    {
     "data": {
      "text/plain": [
       "[1.0346789360046387, 0.8888888955116272]"
      ]
     },
     "execution_count": 8,
     "metadata": {},
     "output_type": "execute_result"
    }
   ],
   "source": [
    "#model evalutate\n",
    "\n",
    "captcha_recognition.evaluate(d_test,  l_test_1hot, verbose=2)"
   ]
  },
  {
   "cell_type": "code",
   "execution_count": 12,
   "metadata": {
    "colab": {
     "base_uri": "https://localhost:8080/"
    },
    "executionInfo": {
     "elapsed": 2,
     "status": "ok",
     "timestamp": 1628844251312,
     "user": {
      "displayName": "제주도랏맨",
      "photoUrl": "",
      "userId": "00739299839563227487"
     },
     "user_tz": -540
    },
    "id": "4akqqnkwfO-Y",
    "outputId": "0ab7ecc3-b6a4-4c4f-ec56-492a05f742b3"
   },
   "outputs": [
    {
     "name": "stdout",
     "output_type": "stream",
     "text": [
      "63\n"
     ]
    }
   ],
   "source": [
    "#load test character image\n",
    "\n",
    "unlabel_char_list = glob.glob(r'D:\\Github\\captcha_recognition\\character\\unlabeled\\*.png')\n",
    "print(len(unlabel_char_list))"
   ]
  },
  {
   "cell_type": "code",
   "execution_count": 13,
   "metadata": {
    "colab": {
     "base_uri": "https://localhost:8080/",
     "height": 302
    },
    "executionInfo": {
     "elapsed": 395,
     "status": "ok",
     "timestamp": 1628844256812,
     "user": {
      "displayName": "제주도랏맨",
      "photoUrl": "",
      "userId": "00739299839563227487"
     },
     "user_tz": -540
    },
    "id": "IC-GzARLkcF0",
    "outputId": "a43c2973-b4ad-4418-cb6b-37aa2b0489e1"
   },
   "outputs": [
    {
     "name": "stdout",
     "output_type": "stream",
     "text": [
      "(40, 28)\n"
     ]
    },
    {
     "data": {
      "text/plain": [
       "<matplotlib.image.AxesImage at 0x232358e4f70>"
      ]
     },
     "execution_count": 13,
     "metadata": {},
     "output_type": "execute_result"
    },
    {
     "data": {
      "image/png": "[encoded data removed]",
      "text/plain": [
       "<Figure size 432x288 with 1 Axes>"
      ]
     },
     "metadata": {
      "needs_background": "light"
     },
     "output_type": "display_data"
    }
   ],
   "source": [
    "#check test char image\n",
    "\n",
    "img = cv2.imread(unlabel_char_list[47], cv2.IMREAD_GRAYSCALE)\n",
    "print(img.shape)\n",
    "plt.imshow(img)\n",
    "\n",
    "#normalize test char image\n",
    "\n",
    "img = (255.0 - img) / 255.0\n",
    "plt.imshow(img)"
   ]
  },
  {
   "cell_type": "code",
   "execution_count": 14,
   "metadata": {
    "colab": {
     "base_uri": "https://localhost:8080/"
    },
    "executionInfo": {
     "elapsed": 2,
     "status": "ok",
     "timestamp": 1628844263740,
     "user": {
      "displayName": "제주도랏맨",
      "photoUrl": "",
      "userId": "00739299839563227487"
     },
     "user_tz": -540
    },
    "id": "TTem7vvdlFz3",
    "outputId": "2bd5b753-358e-4e78-e18a-3d983c459f93"
   },
   "outputs": [
    {
     "name": "stdout",
     "output_type": "stream",
     "text": [
      "1/1 [==============================] - 0s 67ms/step\n",
      "Predicted : w\n"
     ]
    }
   ],
   "source": [
    "#predict test char image\n",
    "test = []\n",
    "test.append(img)\n",
    "test = np.array(test)\n",
    "\n",
    "result = captcha_recognition.predict(test)\n",
    "index = result.argmax()\n",
    "\n",
    "category = ['2', '3', '4', '5', '6', '7', '8', 'a', 'b', 'c', 'd', 'e', 'f', 'g', 'h', 'k', 'm', 'n', 'p', 'r', 'w', 'x', 'y']\n",
    "\n",
    "print('Predicted :', category[index])"
   ]
  },
  {
   "cell_type": "code",
   "execution_count": 15,
   "metadata": {
    "colab": {
     "base_uri": "https://localhost:8080/"
    },
    "executionInfo": {
     "elapsed": 85247,
     "status": "ok",
     "timestamp": 1628854040981,
     "user": {
      "displayName": "제주도랏맨",
      "photoUrl": "",
      "userId": "00739299839563227487"
     },
     "user_tz": -540
    },
    "id": "NuN4P2feIRxD",
    "outputId": "8e71bc0b-ee3d-4c35-fc83-fc5ad5a86d4f"
   },
   "outputs": [
    {
     "name": "stdout",
     "output_type": "stream",
     "text": [
      "1553\n"
     ]
    }
   ],
   "source": [
    "#load uncutted string image\n",
    "\n",
    "captcha_list = glob.glob('D:\\Github\\captcha_recognition\\captcha\\labeled\\*.png')\n",
    "\n",
    "print(len(captcha_list))"
   ]
  },
  {
   "cell_type": "code",
   "execution_count": 16,
   "metadata": {
    "colab": {
     "base_uri": "https://localhost:8080/",
     "height": 157
    },
    "executionInfo": {
     "elapsed": 1021,
     "status": "ok",
     "timestamp": 1628854847641,
     "user": {
      "displayName": "제주도랏맨",
      "photoUrl": "",
      "userId": "00739299839563227487"
     },
     "user_tz": -540
    },
    "id": "UDWxVGRKRGxn",
    "outputId": "41bce3a8-7d68-4353-8ae6-2a251f85c0c3"
   },
   "outputs": [
    {
     "data": {
      "text/plain": [
       "<matplotlib.image.AxesImage at 0x23235bc7190>"
      ]
     },
     "execution_count": 16,
     "metadata": {},
     "output_type": "execute_result"
    },
    {
     "data": {
      "image/png": "[encoded data removed]",
      "text/plain": [
       "<Figure size 432x288 with 1 Axes>"
      ]
     },
     "metadata": {
      "needs_background": "light"
     },
     "output_type": "display_data"
    }
   ],
   "source": [
    "#check test string image\n",
    "\n",
    "img = cv2.imread(captcha_list[666], cv2.IMREAD_GRAYSCALE)\n",
    "plt.imshow(img)"
   ]
  },
  {
   "cell_type": "code",
   "execution_count": 17,
   "metadata": {
    "colab": {
     "base_uri": "https://localhost:8080/",
     "height": 157
    },
    "executionInfo": {
     "elapsed": 7,
     "status": "ok",
     "timestamp": 1628854850617,
     "user": {
      "displayName": "제주도랏맨",
      "photoUrl": "",
      "userId": "00739299839563227487"
     },
     "user_tz": -540
    },
    "id": "tLwcjRQoRl0D",
    "outputId": "2a85cf8c-217b-4d50-f3df-6da1d2057038"
   },
   "outputs": [
    {
     "data": {
      "text/plain": [
       "<matplotlib.image.AxesImage at 0x232324f04f0>"
      ]
     },
     "execution_count": 17,
     "metadata": {},
     "output_type": "execute_result"
    },
    {
     "data": {
      "image/png": "[encoded data removed]",
      "text/plain": [
       "<Figure size 432x288 with 1 Axes>"
      ]
     },
     "metadata": {
      "needs_background": "light"
     },
     "output_type": "display_data"
    }
   ],
   "source": [
    "#Image post-processing\n",
    "\n",
    "kernel = np.ones((3, 3), np.uint8)\n",
    "\n",
    "th1 = cv2.adaptiveThreshold(img, 255, cv2.ADAPTIVE_THRESH_MEAN_C, cv2.THRESH_BINARY, 11, 2)\n",
    "\n",
    "dilation_image = cv2.dilate(th1, kernel, iterations=1)\n",
    "\n",
    "plt.imshow(dilation_image)"
   ]
  },
  {
   "cell_type": "code",
   "execution_count": 18,
   "metadata": {
    "colab": {
     "base_uri": "https://localhost:8080/"
    },
    "executionInfo": {
     "elapsed": 439,
     "status": "ok",
     "timestamp": 1628854855161,
     "user": {
      "displayName": "제주도랏맨",
      "photoUrl": "",
      "userId": "00739299839563227487"
     },
     "user_tz": -540
    },
    "id": "71wduHPUR5yD",
    "outputId": "1a34b238-ecb6-4b1b-dfee-0706e84ef868"
   },
   "outputs": [
    {
     "name": "stdout",
     "output_type": "stream",
     "text": [
      "1/1 [==============================] - 0s 40ms/step\n",
      "1/1 [==============================] - 0s 13ms/step\n",
      "1/1 [==============================] - 0s 13ms/step\n",
      "1/1 [==============================] - 0s 12ms/step\n",
      "cycr\n"
     ]
    }
   ],
   "source": [
    "#predict test string image\n",
    "\n",
    "original = ['2', '3', '4', '5', '6', '7', '8', 'a', 'b', 'c', 'd', 'e', 'f', 'g', 'h', 'k', 'm', 'n', 'p', 'r', 'w', 'x', 'y']\n",
    "start = 5\n",
    "w = 28\n",
    "title = ''\n",
    "\n",
    "for count in range(4):\n",
    "    test = []\n",
    "    gap = 8\n",
    "  \n",
    "    part = dilation_image[0:50, start:start+w].copy()\n",
    "\n",
    "    part = (255.0 - part) / 255.0\n",
    "    part = np.reshape(part, (1120, ))\n",
    "    test.append(part)\n",
    "    test = np.array(test)\n",
    "    result = captcha_recognition.predict(test)\n",
    "    index = result.argmax()\n",
    "\n",
    "    title += original[index]\n",
    "\n",
    "#     if result == 'w' or result == 'm' or result == 'p':\n",
    "#         gap = 0\n",
    "\n",
    "#     if result == 'f':\n",
    "#         gap = 10\n",
    "\n",
    "    start = start + w - gap\n",
    "\n",
    "print(title)"
   ]
  },
  {
   "cell_type": "code",
   "execution_count": null,
   "metadata": {},
   "outputs": [],
   "source": []
  }
 ],
 "metadata": {
  "colab": {
   "authorship_tag": "ABX9TyP6CYkihh69Hh/x9Yh8dYcc",
   "collapsed_sections": [],
   "name": "captcha.ipynb",
   "provenance": []
  },
  "kernelspec": {
   "display_name": "Python 3 (ipykernel)",
   "language": "python",
   "name": "python3"
  },
  "language_info": {
   "codemirror_mode": {
    "name": "ipython",
    "version": 3
   },
   "file_extension": ".py",
   "mimetype": "text/x-python",
   "name": "python",
   "nbconvert_exporter": "python",
   "pygments_lexer": "ipython3",
   "version": "3.10.3"
  }
 },
 "nbformat": 4,
 "nbformat_minor": 1
}
